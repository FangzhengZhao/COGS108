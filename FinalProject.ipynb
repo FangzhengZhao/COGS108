{
 "cells": [
  {
   "cell_type": "markdown",
   "metadata": {},
   "source": [
    "# COGS 108 - Final Project"
   ]
  },
  {
   "cell_type": "markdown",
   "metadata": {},
   "source": [
    "## Important\n",
    "\n",
    "- ONE, and only one, member of your group should upload this notebook to TritonED. \n",
    "- Each member of the group will receive the same grade on this assignment. \n",
    "- Keep the file name the same: submit the file 'FinalProject.ipynb'.\n",
    "- Only upload the .ipynb file to TED, do not upload any associted data. Make sure that for cells in which you want graders to see output that these cells have been executed."
   ]
  },
  {
   "cell_type": "markdown",
   "metadata": {},
   "source": [
    "## Group Members: Fill in the Student IDs of each group member here\n",
    "\n",
    "Replace the lines below to list each persons full student ID, ucsd email and full name.\n",
    "\n",
    "- A92046642 Yingjing Xia\n",
    "- A92113764 Fangzheng Zhao\n",
    "- A14748203 Angela Ray"
   ]
  },
  {
   "cell_type": "markdown",
   "metadata": {},
   "source": [
    "## Introduction & Background"
   ]
  },
  {
   "cell_type": "markdown",
   "metadata": {},
   "source": [
    "Despite the global progress that has been made on women’s rights in the past couple decades, women’s rights still deserve our attention, especially in developing regions. Higher mortality rate of women compared to that of men still persists in some Asian and African countries, due to reasons such as female infanticide and comparative neglect of female health and nutrition caused by patriarchal bias in traditional values (Sen, 1992; Bunch, 1990). However, recent years have witnessed a positive shift of women’s rights in these developing regions due to the changes of roles that developing countries play within the global economy. \n",
    "\n",
    "As industries move their labor-intensive manufacturing from developed countries to developing countries to take advantage of the cheaper labor, an unprecedented need for unskilled, stable but inexpensive workers emerged in these developing countries. The new labor market provided employment opportunities for women in developing countries who were previously confined to their home and worked as unpaid labor in a family setting. The relatively steady pay from the factory jobs in ‘sweatshops’ has the potential of elevating the financial status of women in these regions (Kabeer, 2004). \n",
    "\n",
    "An improvement in economic status could aid women in these regions to combat the restrictions imposed on them by the conservative social environment. For example, in Bangladesh, a predominantly agriculture dependent country where half of the population still struggled with poverty, the rise of garment factories provided employment opportunities for women who were previously confined to domestic settings and were provided very limited choices for earning their own living due to cultural restrictions and discriminations at the market place (Kabeer, 2004). Although the working conditions are still very hostile, with long hours, mistreatments from employers, and delayed pay, female garment workers interviewed expressed the opinion that the new-found financial power allows them to renegotiate their marriage relationship, gain self-confidence, and build social networks outside of a domestic setting. Similarly, researchers have found that employment opportunities in labor-intensive manufacturing factories aid women to pursue their relative freedom in Latin America, Southern China, and Turkey, despite the general hostile working conditions judged by Western standards. \n",
    "\n",
    "With the support of the findings in previous literature, we would like to further investigate whether an upward development in economy in general helps with the progress of women’s rights, due to a potential increase in employment opportunities and subsequently an improvement of social environment. We would predict that the most significant improvement in women’s rights would be seen in developing countries following an increase in trade and national income."
   ]
  },
  {
   "cell_type": "markdown",
   "metadata": {},
   "source": [
    "References (include links):\n",
    "\n",
    "- 1) Bunch, Charlotte. \"Women's rights as human rights: Toward a re-vision of human rights.\" Hum. Rts. Q. 12 (1990): 486.https://heinonline.org/HOL/Page?handle=hein.journals/hurq12&div=40&g_sent=1&casa_token=0EMWTuk0MCkAAAAA:lwjCWw_Z-eo3ZuDdgaFZwxmAyFicHRMmvoBehQRbxe4wgrd-bZM5ENHEZ1Uwb1dVtY23l2w79g&collection=journals\n",
    "\n",
    "- 2) Kabeer, Naila. \"Globalization, labor standards, and women's rights: dilemmas of collective (in) action in an interdependent world.\" Feminist Economics 10.1 (2004): 3-35. https://www.tandfonline.com/doi/abs/10.1080/1354570042000198227\n",
    "\n",
    "- 3) Sen, Amartya. \"Missing women.\" BMJ: British Medical Journal304.6827 (1992): 587. https://www.ncbi.nlm.nih.gov/pmc/articles/PMC1881324/"
   ]
  },
  {
   "cell_type": "markdown",
   "metadata": {},
   "source": [
    "## Data Description"
   ]
  },
  {
   "cell_type": "code",
   "execution_count": null,
   "metadata": {},
   "outputs": [],
   "source": []
  }
 ],
 "metadata": {
  "kernelspec": {
   "display_name": "Python 3",
   "language": "python",
   "name": "python3"
  },
  "language_info": {
   "codemirror_mode": {
    "name": "ipython",
    "version": 3
   },
   "file_extension": ".py",
   "mimetype": "text/x-python",
   "name": "python",
   "nbconvert_exporter": "python",
   "pygments_lexer": "ipython3",
   "version": "3.7.1"
  }
 },
 "nbformat": 4,
 "nbformat_minor": 2
}
